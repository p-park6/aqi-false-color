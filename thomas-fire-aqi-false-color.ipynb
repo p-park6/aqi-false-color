{
 "cells": [
  {
   "cell_type": "markdown",
   "id": "36577b28-458e-4904-9ef2-fab047a41082",
   "metadata": {
    "tags": []
   },
   "source": [
    "# Thomas fire\n",
    "\n",
    "Author: Patricia Park\n",
    "\n",
    "Repository: https://github.com/p-park6/aqi-false-color.git\n",
    "\n",
    "## Highlights in this notebook:\n",
    "- Data tidying and filtering with `pandas`\n",
    "- Data statistical analysis\n",
    "- Geospacial data tidying with `geopandas`\n",
    "- Visualizing data through the forms of a graph and map\n",
    "\n",
    "## About the Data\n",
    "Three types of datasets were uses:\n",
    "1. The first dataset covers the [Air Quality Index (AQI)](https://www.airnow.gov/aqi/aqi-basics/) found on the [US Environmental Protection Agency](https://www.epa.gov) website. Here, we will use the data provided to be able to visualize the air quality over months, and if there were any abnormal spikes that appeared during the [Thomas Fire](https://keyt.com/news/local-news/top-stories/2022/12/04/thomas-fire-5th-year-anniversary/) in 2017.\n",
    "\n",
    "2. The second dataset includes a collection of bands (including red, green, blue, near-infrared and shortwave infrared). This data is from the [Landsat Collection 2 Surface Reflectance](https://www.usgs.gov/landsat-missions/landsat-collection-2-surface-reflectance), collected by the Landsat 8 satellite. The data was accessed and pre-processed in the Microsoft Planetary Computer to remove data outside land and coarsen the spatial resolution ([Landsat Collection in MPC](https://planetarycomputer.microsoft.com/dataset/landsat-c2-l2)). Data should be used for visualization purposes only.\n",
    "- Additional information:\n",
    "    -[Landsat Satellite homepage](https://www.usgs.gov/landsat-missions)\n",
    "\n",
    "\n",
    "3. The third dataset include the shapefile of the fire perimeters in California during 2017. The [complete file can be accessed in the CA state geoportal](https://gis.data.ca.gov/datasets/CALFIRE-Forestry::california-fire-perimeters-all-1/about).\n",
    "\n",
    "## Final outputs:\n",
    "This notebook will output a graph of the AQI over a number of months in Santa Barbara as well as a map showing the area of where the Thomas fire took place."
   ]
  },
  {
   "cell_type": "code",
   "execution_count": null,
   "id": "c30bc791-6271-4d68-9c78-6cb7df01f884",
   "metadata": {},
   "outputs": [],
   "source": []
  },
  {
   "cell_type": "markdown",
   "id": "a7c5d0ad-1d8c-4339-bd23-cf9539dc718f",
   "metadata": {},
   "source": [
    "## Import libraries"
   ]
  },
  {
   "cell_type": "code",
   "execution_count": 1,
   "id": "c8c7ba51-55f6-402c-821a-b61e5cec8219",
   "metadata": {
    "tags": []
   },
   "outputs": [],
   "source": [
    "import os\n",
    "import numpy as np\n",
    "import pandas as pd\n",
    "\n",
    "import geopandas as gpd\n",
    "import xarray as xr\n",
    "import rioxarray as rioxr\n",
    "import matplotlib.patches as mpatches\n",
    "from matplotlib.markers import MarkerStyle\n",
    "\n",
    "from shapely import Point\n",
    "from shapely import Polygon\n",
    "from shapely import box\n",
    "import matplotlib.pyplot as plt\n",
    "import matplotlib.lines as mlines"
   ]
  },
  {
   "cell_type": "markdown",
   "id": "68c3b875-486c-4649-97b1-0d5acf281eca",
   "metadata": {},
   "source": [
    "### Read in necessary data"
   ]
  },
  {
   "cell_type": "code",
   "execution_count": null,
   "id": "211218e2-75b9-4319-9be0-58d61f83f25d",
   "metadata": {},
   "outputs": [],
   "source": [
    "# read in daily AQI 2017 zip file from url\n",
    "aqi_17 = pd.read_csv(\"https://aqs.epa.gov/aqsweb/airdata/daily_aqi_by_county_2017.zip\")\n",
    "\n",
    "# read in daily AQI 2018 zip file from url\n",
    "aqi_18 = pd.read_csv(\"https://aqs.epa.gov/aqsweb/airdata/daily_aqi_by_county_2018.zip\")\n",
    "\n",
    "# Read in bands dataset\n",
    "#create pathway\n",
    "ca_bands_fp = os.path.join(os.getcwd(),'data','landsat8-2018-01-26-sb-simplified.nc')\n",
    "#read data using pathway\n",
    "ca_fires_bands_2017 = rioxr.open_rasterio(ca_bands_fp)\n",
    "\n",
    "# Read in California perimeter dataset\n",
    "ca_fires_perimeter_2017= gpd.read_file(os.path.join(os.getcwd(),'data', 'California_Fire_Perimeters_2017', 'California_Fire_Perimeters_2017.shp'))"
   ]
  },
  {
   "cell_type": "markdown",
   "id": "75aeed6f-053c-43b4-ada3-48f46a06b87a",
   "metadata": {},
   "source": [
    "## Prepare AQI data\n",
    "\n",
    "### Data Exploration:"
   ]
  },
  {
   "cell_type": "code",
   "execution_count": 2,
   "id": "dc07f145-73da-4336-9a13-f12563271467",
   "metadata": {
    "tags": []
   },
   "outputs": [
    {
     "ename": "NameError",
     "evalue": "name 'aqi_17' is not defined",
     "output_type": "error",
     "traceback": [
      "\u001b[0;31m---------------------------------------------------------------------------\u001b[0m",
      "\u001b[0;31mNameError\u001b[0m                                 Traceback (most recent call last)",
      "\u001b[0;32m/tmp/ipykernel_1469258/2737206084.py\u001b[0m in \u001b[0;36m<module>\u001b[0;34m\u001b[0m\n\u001b[1;32m      1\u001b[0m \u001b[0;31m#look at the first 5 observations of aqi 17\u001b[0m\u001b[0;34m\u001b[0m\u001b[0;34m\u001b[0m\u001b[0m\n\u001b[0;32m----> 2\u001b[0;31m \u001b[0maqi_17\u001b[0m\u001b[0;34m.\u001b[0m\u001b[0mhead\u001b[0m\u001b[0;34m(\u001b[0m\u001b[0;34m)\u001b[0m\u001b[0;34m\u001b[0m\u001b[0;34m\u001b[0m\u001b[0m\n\u001b[0m",
      "\u001b[0;31mNameError\u001b[0m: name 'aqi_17' is not defined"
     ]
    }
   ],
   "source": [
    "#look at the first 5 observations of aqi 17\n",
    "aqi_17.head()"
   ]
  },
  {
   "cell_type": "code",
   "execution_count": 4,
   "id": "154fa8fa-f321-448a-abfe-365f49a4b29e",
   "metadata": {
    "tags": []
   },
   "outputs": [
    {
     "ename": "NameError",
     "evalue": "name 'aqi_18' is not defined",
     "output_type": "error",
     "traceback": [
      "\u001b[0;31m---------------------------------------------------------------------------\u001b[0m",
      "\u001b[0;31mNameError\u001b[0m                                 Traceback (most recent call last)",
      "\u001b[0;32m/tmp/ipykernel_1469258/1438195453.py\u001b[0m in \u001b[0;36m<module>\u001b[0;34m\u001b[0m\n\u001b[1;32m      1\u001b[0m \u001b[0;31m#look at the first 5 observations of aqi 18\u001b[0m\u001b[0;34m\u001b[0m\u001b[0;34m\u001b[0m\u001b[0m\n\u001b[0;32m----> 2\u001b[0;31m \u001b[0maqi_18\u001b[0m\u001b[0;34m.\u001b[0m\u001b[0mhead\u001b[0m\u001b[0;34m(\u001b[0m\u001b[0;34m)\u001b[0m\u001b[0;34m\u001b[0m\u001b[0;34m\u001b[0m\u001b[0m\n\u001b[0m",
      "\u001b[0;31mNameError\u001b[0m: name 'aqi_18' is not defined"
     ]
    }
   ],
   "source": [
    "#look at the first 5 observations of aqi 18\n",
    "aqi_18.head()"
   ]
  },
  {
   "cell_type": "markdown",
   "id": "f77f36af-4568-425e-b013-c46d92991571",
   "metadata": {},
   "source": [
    "### Merge datasets together\n",
    "\n",
    "To make data easier to access, we will merge the two datasets together"
   ]
  },
  {
   "cell_type": "code",
   "execution_count": 5,
   "id": "e685cdb8-8a71-4759-8a35-c6da15d37313",
   "metadata": {
    "tags": []
   },
   "outputs": [
    {
     "ename": "NameError",
     "evalue": "name 'aqi_17' is not defined",
     "output_type": "error",
     "traceback": [
      "\u001b[0;31m---------------------------------------------------------------------------\u001b[0m",
      "\u001b[0;31mNameError\u001b[0m                                 Traceback (most recent call last)",
      "\u001b[0;32m/tmp/ipykernel_1469258/3430614405.py\u001b[0m in \u001b[0;36m<module>\u001b[0;34m\u001b[0m\n\u001b[1;32m      1\u001b[0m \u001b[0;31m#join the two datasets together\u001b[0m\u001b[0;34m\u001b[0m\u001b[0;34m\u001b[0m\u001b[0m\n\u001b[0;32m----> 2\u001b[0;31m \u001b[0maqi\u001b[0m \u001b[0;34m=\u001b[0m \u001b[0mpd\u001b[0m\u001b[0;34m.\u001b[0m\u001b[0mconcat\u001b[0m\u001b[0;34m(\u001b[0m\u001b[0;34m[\u001b[0m\u001b[0maqi_17\u001b[0m\u001b[0;34m,\u001b[0m \u001b[0maqi_18\u001b[0m\u001b[0;34m]\u001b[0m\u001b[0;34m)\u001b[0m\u001b[0;34m\u001b[0m\u001b[0;34m\u001b[0m\u001b[0m\n\u001b[0m\u001b[1;32m      3\u001b[0m \u001b[0;31m#print to see if the two were joined together sucessfully\u001b[0m\u001b[0;34m\u001b[0m\u001b[0;34m\u001b[0m\u001b[0m\n\u001b[1;32m      4\u001b[0m \u001b[0maqi\u001b[0m\u001b[0;34m\u001b[0m\u001b[0;34m\u001b[0m\u001b[0m\n",
      "\u001b[0;31mNameError\u001b[0m: name 'aqi_17' is not defined"
     ]
    }
   ],
   "source": [
    "#join the two datasets together\n",
    "aqi = pd.concat([aqi_17, aqi_18])\n",
    "#print to see if the two were joined together sucessfully\n",
    "aqi"
   ]
  },
  {
   "cell_type": "markdown",
   "id": "7f4361d0-4aac-48ec-ac2f-5804a7e2d23e",
   "metadata": {},
   "source": [
    "### Reformat columns\n",
    "\n",
    "For easier access, we will rename and reformat the column names"
   ]
  },
  {
   "cell_type": "code",
   "execution_count": 6,
   "id": "8a0224bc-3c95-4c79-9e09-cc0bf0795514",
   "metadata": {
    "tags": []
   },
   "outputs": [
    {
     "ename": "NameError",
     "evalue": "name 'aqi' is not defined",
     "output_type": "error",
     "traceback": [
      "\u001b[0;31m---------------------------------------------------------------------------\u001b[0m",
      "\u001b[0;31mNameError\u001b[0m                                 Traceback (most recent call last)",
      "\u001b[0;32m/tmp/ipykernel_1469258/2913340414.py\u001b[0m in \u001b[0;36m<module>\u001b[0;34m\u001b[0m\n\u001b[1;32m      1\u001b[0m \u001b[0;31m# change column names to lowercase and replace spaces with '_'\u001b[0m\u001b[0;34m\u001b[0m\u001b[0;34m\u001b[0m\u001b[0m\n\u001b[0;32m----> 2\u001b[0;31m \u001b[0maqi\u001b[0m\u001b[0;34m.\u001b[0m\u001b[0mcolumns\u001b[0m \u001b[0;34m=\u001b[0m \u001b[0maqi\u001b[0m\u001b[0;34m.\u001b[0m\u001b[0mcolumns\u001b[0m\u001b[0;34m.\u001b[0m\u001b[0mstr\u001b[0m\u001b[0;34m.\u001b[0m\u001b[0mlower\u001b[0m\u001b[0;34m(\u001b[0m\u001b[0;34m)\u001b[0m\u001b[0;34m.\u001b[0m\u001b[0mstr\u001b[0m\u001b[0;34m.\u001b[0m\u001b[0mreplace\u001b[0m\u001b[0;34m(\u001b[0m\u001b[0;34m' '\u001b[0m\u001b[0;34m,\u001b[0m\u001b[0;34m'_'\u001b[0m\u001b[0;34m)\u001b[0m\u001b[0;34m\u001b[0m\u001b[0;34m\u001b[0m\u001b[0m\n\u001b[0m",
      "\u001b[0;31mNameError\u001b[0m: name 'aqi' is not defined"
     ]
    }
   ],
   "source": [
    "# change column names to lowercase and replace spaces with '_'\n",
    "aqi.columns = aqi.columns.str.lower().str.replace(' ','_')"
   ]
  },
  {
   "cell_type": "code",
   "execution_count": null,
   "id": "416fa264-f665-47fb-9a72-7b20a76186a0",
   "metadata": {},
   "outputs": [],
   "source": []
  }
 ],
 "metadata": {
  "kernelspec": {
   "display_name": "Anaconda 3 (Base)",
   "language": "python",
   "name": "base"
  },
  "language_info": {
   "codemirror_mode": {
    "name": "ipython",
    "version": 3
   },
   "file_extension": ".py",
   "mimetype": "text/x-python",
   "name": "python",
   "nbconvert_exporter": "python",
   "pygments_lexer": "ipython3",
   "version": "3.9.13"
  }
 },
 "nbformat": 4,
 "nbformat_minor": 5
}
