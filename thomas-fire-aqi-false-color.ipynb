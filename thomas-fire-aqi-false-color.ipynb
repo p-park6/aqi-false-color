{
 "cells": [
  {
   "cell_type": "markdown",
   "id": "36577b28-458e-4904-9ef2-fab047a41082",
   "metadata": {
    "tags": []
   },
   "source": [
    "# Thomas fire\n",
    "\n",
    "Author: Patricia Park\n",
    "\n",
    "Repository: https://github.com/p-park6/aqi-false-color.git\n",
    "\n",
    "## Highlights in this notebook:\n",
    "- Data tidying and filtering with `pandas`\n",
    "- Data statistical analysis\n",
    "- Geospacial data tidying with `geopandas`\n",
    "- Visualizing data through the forms of a graph and map\n",
    "\n",
    "## About the Data\n",
    "Three types of datasets were uses:\n",
    "1. The first dataset covers the [Air Quality Index (AQI)](https://www.airnow.gov/aqi/aqi-basics/) found on the [US Environmental Protection Agency](https://www.epa.gov) website. Here, we will use the data provided to be able to visualize the air quality over months, and if there were any abnormal spikes that appeared during the [Thomas Fire](https://keyt.com/news/local-news/top-stories/2022/12/04/thomas-fire-5th-year-anniversary/) in 2017.\n",
    "\n",
    "2. The second dataset includes a collection of bands (including red, green, blue, near-infrared and shortwave infrared). This data is from the [Landsat Collection 2 Surface Reflectance](https://www.usgs.gov/landsat-missions/landsat-collection-2-surface-reflectance), collected by the Landsat 8 satellite. The data was accessed and pre-processed in the Microsoft Planetary Computer to remove data outside land and coarsen the spatial resolution ([Landsat Collection in MPC](https://planetarycomputer.microsoft.com/dataset/landsat-c2-l2)). Data should be used for visualization purposes only.\n",
    "- Additional information:\n",
    "    -[Landsat Satellite homepage](https://www.usgs.gov/landsat-missions)\n",
    "\n",
    "\n",
    "3. The third dataset include the shapefile of the fire perimeters in California during 2017. The [complete file can be accessed in the CA state geoportal](https://gis.data.ca.gov/datasets/CALFIRE-Forestry::california-fire-perimeters-all-1/about).\n",
    "\n",
    "## Final outputs:\n",
    "This notebook will output a graph of the AQI over a number of months in Santa Barbara as well as a map showing the area of where the Thomas fire took place."
   ]
  },
  {
   "cell_type": "code",
   "execution_count": null,
   "id": "c30bc791-6271-4d68-9c78-6cb7df01f884",
   "metadata": {},
   "outputs": [],
   "source": []
  },
  {
   "cell_type": "markdown",
   "id": "a7c5d0ad-1d8c-4339-bd23-cf9539dc718f",
   "metadata": {},
   "source": [
    "## Import libraries"
   ]
  },
  {
   "cell_type": "code",
   "execution_count": 1,
   "id": "c8c7ba51-55f6-402c-821a-b61e5cec8219",
   "metadata": {
    "tags": []
   },
   "outputs": [],
   "source": [
    "import os\n",
    "import numpy as np\n",
    "import pandas as pd\n",
    "\n",
    "import geopandas as gpd\n",
    "import xarray as xr\n",
    "import rioxarray as rioxr\n",
    "import matplotlib.patches as mpatches\n",
    "from matplotlib.markers import MarkerStyle\n",
    "\n",
    "from shapely import Point\n",
    "from shapely import Polygon\n",
    "from shapely import box\n",
    "import matplotlib.pyplot as plt\n",
    "import matplotlib.lines as mlines"
   ]
  },
  {
   "cell_type": "markdown",
   "id": "68c3b875-486c-4649-97b1-0d5acf281eca",
   "metadata": {},
   "source": [
    "### Read in necessary data"
   ]
  },
  {
   "cell_type": "code",
   "execution_count": null,
   "id": "211218e2-75b9-4319-9be0-58d61f83f25d",
   "metadata": {},
   "outputs": [],
   "source": [
    "# read in daily AQI 2017 zip file from url\n",
    "aqi_17 = pd.read_csv(\"https://aqs.epa.gov/aqsweb/airdata/daily_aqi_by_county_2017.zip\")\n",
    "\n",
    "# read in daily AQI 2018 zip file from url\n",
    "aqi_18 = pd.read_csv(\"https://aqs.epa.gov/aqsweb/airdata/daily_aqi_by_county_2018.zip\")\n",
    "\n",
    "# Read in bands dataset\n",
    "#create pathway\n",
    "ca_bands_fp = os.path.join(os.getcwd(),'data','landsat8-2018-01-26-sb-simplified.nc')\n",
    "#read data using pathway\n",
    "ca_fires_bands_2017 = rioxr.open_rasterio(ca_bands_fp)\n",
    "\n",
    "# Read in California perimeter dataset\n",
    "ca_fires_perimeter_2017= gpd.read_file(os.path.join(os.getcwd(),'data', 'California_Fire_Perimeters_2017', 'California_Fire_Perimeters_2017.shp'))"
   ]
  },
  {
   "cell_type": "markdown",
   "id": "75aeed6f-053c-43b4-ada3-48f46a06b87a",
   "metadata": {},
   "source": [
    "## AQI data\n",
    "\n",
    "### Prepare AQI data\n",
    "\n",
    "### Data Exploration:"
   ]
  },
  {
   "cell_type": "code",
   "execution_count": 2,
   "id": "dc07f145-73da-4336-9a13-f12563271467",
   "metadata": {
    "tags": []
   },
   "outputs": [
    {
     "ename": "NameError",
     "evalue": "name 'aqi_17' is not defined",
     "output_type": "error",
     "traceback": [
      "\u001b[0;31m---------------------------------------------------------------------------\u001b[0m",
      "\u001b[0;31mNameError\u001b[0m                                 Traceback (most recent call last)",
      "\u001b[0;32m/tmp/ipykernel_1469258/2737206084.py\u001b[0m in \u001b[0;36m<module>\u001b[0;34m\u001b[0m\n\u001b[1;32m      1\u001b[0m \u001b[0;31m#look at the first 5 observations of aqi 17\u001b[0m\u001b[0;34m\u001b[0m\u001b[0;34m\u001b[0m\u001b[0m\n\u001b[0;32m----> 2\u001b[0;31m \u001b[0maqi_17\u001b[0m\u001b[0;34m.\u001b[0m\u001b[0mhead\u001b[0m\u001b[0;34m(\u001b[0m\u001b[0;34m)\u001b[0m\u001b[0;34m\u001b[0m\u001b[0;34m\u001b[0m\u001b[0m\n\u001b[0m",
      "\u001b[0;31mNameError\u001b[0m: name 'aqi_17' is not defined"
     ]
    }
   ],
   "source": [
    "#look at the first 5 observations of aqi 17\n",
    "aqi_17.head()"
   ]
  },
  {
   "cell_type": "code",
   "execution_count": 4,
   "id": "154fa8fa-f321-448a-abfe-365f49a4b29e",
   "metadata": {
    "tags": []
   },
   "outputs": [
    {
     "ename": "NameError",
     "evalue": "name 'aqi_18' is not defined",
     "output_type": "error",
     "traceback": [
      "\u001b[0;31m---------------------------------------------------------------------------\u001b[0m",
      "\u001b[0;31mNameError\u001b[0m                                 Traceback (most recent call last)",
      "\u001b[0;32m/tmp/ipykernel_1469258/1438195453.py\u001b[0m in \u001b[0;36m<module>\u001b[0;34m\u001b[0m\n\u001b[1;32m      1\u001b[0m \u001b[0;31m#look at the first 5 observations of aqi 18\u001b[0m\u001b[0;34m\u001b[0m\u001b[0;34m\u001b[0m\u001b[0m\n\u001b[0;32m----> 2\u001b[0;31m \u001b[0maqi_18\u001b[0m\u001b[0;34m.\u001b[0m\u001b[0mhead\u001b[0m\u001b[0;34m(\u001b[0m\u001b[0;34m)\u001b[0m\u001b[0;34m\u001b[0m\u001b[0;34m\u001b[0m\u001b[0m\n\u001b[0m",
      "\u001b[0;31mNameError\u001b[0m: name 'aqi_18' is not defined"
     ]
    }
   ],
   "source": [
    "#look at the first 5 observations of aqi 18\n",
    "aqi_18.head()"
   ]
  },
  {
   "cell_type": "markdown",
   "id": "f77f36af-4568-425e-b013-c46d92991571",
   "metadata": {},
   "source": [
    "### Merge datasets together\n",
    "\n",
    "To make data easier to access, we will merge the two datasets together"
   ]
  },
  {
   "cell_type": "code",
   "execution_count": 5,
   "id": "e685cdb8-8a71-4759-8a35-c6da15d37313",
   "metadata": {
    "tags": []
   },
   "outputs": [
    {
     "ename": "NameError",
     "evalue": "name 'aqi_17' is not defined",
     "output_type": "error",
     "traceback": [
      "\u001b[0;31m---------------------------------------------------------------------------\u001b[0m",
      "\u001b[0;31mNameError\u001b[0m                                 Traceback (most recent call last)",
      "\u001b[0;32m/tmp/ipykernel_1469258/3430614405.py\u001b[0m in \u001b[0;36m<module>\u001b[0;34m\u001b[0m\n\u001b[1;32m      1\u001b[0m \u001b[0;31m#join the two datasets together\u001b[0m\u001b[0;34m\u001b[0m\u001b[0;34m\u001b[0m\u001b[0m\n\u001b[0;32m----> 2\u001b[0;31m \u001b[0maqi\u001b[0m \u001b[0;34m=\u001b[0m \u001b[0mpd\u001b[0m\u001b[0;34m.\u001b[0m\u001b[0mconcat\u001b[0m\u001b[0;34m(\u001b[0m\u001b[0;34m[\u001b[0m\u001b[0maqi_17\u001b[0m\u001b[0;34m,\u001b[0m \u001b[0maqi_18\u001b[0m\u001b[0;34m]\u001b[0m\u001b[0;34m)\u001b[0m\u001b[0;34m\u001b[0m\u001b[0;34m\u001b[0m\u001b[0m\n\u001b[0m\u001b[1;32m      3\u001b[0m \u001b[0;31m#print to see if the two were joined together sucessfully\u001b[0m\u001b[0;34m\u001b[0m\u001b[0;34m\u001b[0m\u001b[0m\n\u001b[1;32m      4\u001b[0m \u001b[0maqi\u001b[0m\u001b[0;34m\u001b[0m\u001b[0;34m\u001b[0m\u001b[0m\n",
      "\u001b[0;31mNameError\u001b[0m: name 'aqi_17' is not defined"
     ]
    }
   ],
   "source": [
    "#join the two datasets together\n",
    "aqi = pd.concat([aqi_17, aqi_18])\n",
    "#print to see if the two were joined together sucessfully\n",
    "aqi"
   ]
  },
  {
   "cell_type": "markdown",
   "id": "7f4361d0-4aac-48ec-ac2f-5804a7e2d23e",
   "metadata": {},
   "source": [
    "### Reformat columns\n",
    "\n",
    "For easier access, we will rename and reformat the column names"
   ]
  },
  {
   "cell_type": "code",
   "execution_count": 6,
   "id": "8a0224bc-3c95-4c79-9e09-cc0bf0795514",
   "metadata": {
    "tags": []
   },
   "outputs": [
    {
     "ename": "NameError",
     "evalue": "name 'aqi' is not defined",
     "output_type": "error",
     "traceback": [
      "\u001b[0;31m---------------------------------------------------------------------------\u001b[0m",
      "\u001b[0;31mNameError\u001b[0m                                 Traceback (most recent call last)",
      "\u001b[0;32m/tmp/ipykernel_1469258/2913340414.py\u001b[0m in \u001b[0;36m<module>\u001b[0;34m\u001b[0m\n\u001b[1;32m      1\u001b[0m \u001b[0;31m# change column names to lowercase and replace spaces with '_'\u001b[0m\u001b[0;34m\u001b[0m\u001b[0;34m\u001b[0m\u001b[0m\n\u001b[0;32m----> 2\u001b[0;31m \u001b[0maqi\u001b[0m\u001b[0;34m.\u001b[0m\u001b[0mcolumns\u001b[0m \u001b[0;34m=\u001b[0m \u001b[0maqi\u001b[0m\u001b[0;34m.\u001b[0m\u001b[0mcolumns\u001b[0m\u001b[0;34m.\u001b[0m\u001b[0mstr\u001b[0m\u001b[0;34m.\u001b[0m\u001b[0mlower\u001b[0m\u001b[0;34m(\u001b[0m\u001b[0;34m)\u001b[0m\u001b[0;34m.\u001b[0m\u001b[0mstr\u001b[0m\u001b[0;34m.\u001b[0m\u001b[0mreplace\u001b[0m\u001b[0;34m(\u001b[0m\u001b[0;34m' '\u001b[0m\u001b[0;34m,\u001b[0m\u001b[0;34m'_'\u001b[0m\u001b[0;34m)\u001b[0m\u001b[0;34m\u001b[0m\u001b[0;34m\u001b[0m\u001b[0m\n\u001b[0m",
      "\u001b[0;31mNameError\u001b[0m: name 'aqi' is not defined"
     ]
    }
   ],
   "source": [
    "# change column names to lowercase and replace spaces with '_'\n",
    "aqi.columns = aqi.columns.str.lower().str.replace(' ','_')"
   ]
  },
  {
   "cell_type": "markdown",
   "id": "26f787f0-373f-49ec-aebe-a7d31cf6d793",
   "metadata": {},
   "source": [
    "### Filter data\n",
    "\n",
    "Now, we will filter our data for the appropriate columns we want to focus on. In this case, we want to look at data from Santa Barbara county and appropriate columns."
   ]
  },
  {
   "cell_type": "code",
   "execution_count": 7,
   "id": "c7020472-bb41-4536-aebf-8ee13b7c66bf",
   "metadata": {
    "tags": []
   },
   "outputs": [
    {
     "ename": "NameError",
     "evalue": "name 'aqi' is not defined",
     "output_type": "error",
     "traceback": [
      "\u001b[0;31m---------------------------------------------------------------------------\u001b[0m",
      "\u001b[0;31mNameError\u001b[0m                                 Traceback (most recent call last)",
      "\u001b[0;32m/tmp/ipykernel_1469258/771698077.py\u001b[0m in \u001b[0;36m<module>\u001b[0;34m\u001b[0m\n\u001b[1;32m      1\u001b[0m \u001b[0;31m#filter for observations that are in Santa Barbara County\u001b[0m\u001b[0;34m\u001b[0m\u001b[0;34m\u001b[0m\u001b[0m\n\u001b[0;32m----> 2\u001b[0;31m \u001b[0maqi_sb\u001b[0m \u001b[0;34m=\u001b[0m \u001b[0maqi\u001b[0m\u001b[0;34m[\u001b[0m\u001b[0maqi\u001b[0m\u001b[0;34m[\u001b[0m\u001b[0;34m'county_name'\u001b[0m\u001b[0;34m]\u001b[0m \u001b[0;34m==\u001b[0m \u001b[0;34m'Santa Barbara'\u001b[0m\u001b[0;34m]\u001b[0m\u001b[0;34m\u001b[0m\u001b[0;34m\u001b[0m\u001b[0m\n\u001b[0m\u001b[1;32m      3\u001b[0m \u001b[0;34m\u001b[0m\u001b[0m\n\u001b[1;32m      4\u001b[0m \u001b[0;31m#remove not needed columns from the data frame\u001b[0m\u001b[0;34m\u001b[0m\u001b[0;34m\u001b[0m\u001b[0m\n\u001b[1;32m      5\u001b[0m \u001b[0maqi_sb\u001b[0m \u001b[0;34m=\u001b[0m \u001b[0maqi_sb\u001b[0m\u001b[0;34m.\u001b[0m\u001b[0mdrop\u001b[0m\u001b[0;34m(\u001b[0m\u001b[0mcolumns\u001b[0m\u001b[0;34m=\u001b[0m\u001b[0;34m[\u001b[0m\u001b[0;34m'state_name'\u001b[0m\u001b[0;34m,\u001b[0m\u001b[0;34m'county_name'\u001b[0m\u001b[0;34m,\u001b[0m\u001b[0;34m'state_code'\u001b[0m\u001b[0;34m,\u001b[0m\u001b[0;34m'county_code'\u001b[0m\u001b[0;34m]\u001b[0m\u001b[0;34m)\u001b[0m\u001b[0;34m\u001b[0m\u001b[0;34m\u001b[0m\u001b[0m\n",
      "\u001b[0;31mNameError\u001b[0m: name 'aqi' is not defined"
     ]
    }
   ],
   "source": [
    "#filter for observations that are in Santa Barbara County\n",
    "aqi_sb = aqi[aqi['county_name'] == 'Santa Barbara']\n",
    "\n",
    "#remove not needed columns from the data frame\n",
    "aqi_sb = aqi_sb.drop(columns=['state_name','county_name','state_code','county_code'])\n",
    "\n",
    "#use column function on aqi_sb dataframe to see if columns were removed\n",
    "print(aqi_sb.columns)"
   ]
  },
  {
   "cell_type": "markdown",
   "id": "7c18ae88-934f-482d-93a6-9cdc9a09c0ad",
   "metadata": {},
   "source": [
    "### Change datetime and index\n",
    "\n",
    "In order for the graph to show the dates in a correct format, we will change the date column to the datetime format. We will also update the index to be the date column"
   ]
  },
  {
   "cell_type": "code",
   "execution_count": 9,
   "id": "6f60a5da-8cc0-49b5-b0e5-1100f591a1f6",
   "metadata": {
    "tags": []
   },
   "outputs": [
    {
     "ename": "NameError",
     "evalue": "name 'aqi_sb' is not defined",
     "output_type": "error",
     "traceback": [
      "\u001b[0;31m---------------------------------------------------------------------------\u001b[0m",
      "\u001b[0;31mNameError\u001b[0m                                 Traceback (most recent call last)",
      "\u001b[0;32m/tmp/ipykernel_1469258/2601481381.py\u001b[0m in \u001b[0;36m<module>\u001b[0;34m\u001b[0m\n\u001b[1;32m      1\u001b[0m \u001b[0;31m# change date type to be in datetime object (can be ran only one time)\u001b[0m\u001b[0;34m\u001b[0m\u001b[0;34m\u001b[0m\u001b[0m\n\u001b[0;32m----> 2\u001b[0;31m \u001b[0maqi_sb\u001b[0m\u001b[0;34m.\u001b[0m\u001b[0mdate\u001b[0m \u001b[0;34m=\u001b[0m \u001b[0mpd\u001b[0m\u001b[0;34m.\u001b[0m\u001b[0mto_datetime\u001b[0m\u001b[0;34m(\u001b[0m\u001b[0maqi_sb\u001b[0m\u001b[0;34m.\u001b[0m\u001b[0mdate\u001b[0m\u001b[0;34m)\u001b[0m\u001b[0;34m\u001b[0m\u001b[0;34m\u001b[0m\u001b[0m\n\u001b[0m\u001b[1;32m      3\u001b[0m \u001b[0;34m\u001b[0m\u001b[0m\n\u001b[1;32m      4\u001b[0m \u001b[0;31m#change index to be set to date\u001b[0m\u001b[0;34m\u001b[0m\u001b[0;34m\u001b[0m\u001b[0m\n\u001b[1;32m      5\u001b[0m \u001b[0maqi_sb\u001b[0m \u001b[0;34m=\u001b[0m \u001b[0maqi_sb\u001b[0m\u001b[0;34m.\u001b[0m\u001b[0mset_index\u001b[0m\u001b[0;34m(\u001b[0m\u001b[0;34m'date'\u001b[0m\u001b[0;34m)\u001b[0m\u001b[0;34m\u001b[0m\u001b[0;34m\u001b[0m\u001b[0m\n",
      "\u001b[0;31mNameError\u001b[0m: name 'aqi_sb' is not defined"
     ]
    }
   ],
   "source": [
    "# change date type to be in datetime object (can be ran only one time)\n",
    "aqi_sb.date = pd.to_datetime(aqi_sb.date)\n",
    "\n",
    "#change index to be set to date\n",
    "aqi_sb = aqi_sb.set_index('date')\n",
    "\n",
    "#check to see if the index has been updated to date\n",
    "aqi_sb.index"
   ]
  },
  {
   "cell_type": "markdown",
   "id": "7c721ce1-ca55-4e6d-8762-4275a1060dc9",
   "metadata": {},
   "source": [
    "## Data Analysis and Visualization"
   ]
  },
  {
   "cell_type": "markdown",
   "id": "8439ee7f-96e5-456f-9106-6a922028a371",
   "metadata": {},
   "source": [
    "### Create rolling mean\n",
    "\n",
    "While it may be useful to graph every day's AQI, it is also useful to graph a rolling average to see what parts stay constant and what parts have big changes. Here, we will find the rolling average over a 5 day period."
   ]
  },
  {
   "cell_type": "code",
   "execution_count": 10,
   "id": "9db7ea86-e674-4fb7-a9d0-783fe224f4ad",
   "metadata": {
    "tags": []
   },
   "outputs": [
    {
     "ename": "NameError",
     "evalue": "name 'aqi_sb' is not defined",
     "output_type": "error",
     "traceback": [
      "\u001b[0;31m---------------------------------------------------------------------------\u001b[0m",
      "\u001b[0;31mNameError\u001b[0m                                 Traceback (most recent call last)",
      "\u001b[0;32m/tmp/ipykernel_1469258/1679303727.py\u001b[0m in \u001b[0;36m<module>\u001b[0;34m\u001b[0m\n\u001b[1;32m      1\u001b[0m \u001b[0;31m#find the mean of a five day rolling average\u001b[0m\u001b[0;34m\u001b[0m\u001b[0;34m\u001b[0m\u001b[0m\n\u001b[0;32m----> 2\u001b[0;31m \u001b[0maqi_sb\u001b[0m\u001b[0;34m.\u001b[0m\u001b[0maqi\u001b[0m\u001b[0;34m.\u001b[0m\u001b[0mrolling\u001b[0m\u001b[0;34m(\u001b[0m\u001b[0;34m'5D'\u001b[0m\u001b[0;34m)\u001b[0m\u001b[0;34m.\u001b[0m\u001b[0mmean\u001b[0m\u001b[0;34m(\u001b[0m\u001b[0;34m)\u001b[0m\u001b[0;34m\u001b[0m\u001b[0;34m\u001b[0m\u001b[0m\n\u001b[0m",
      "\u001b[0;31mNameError\u001b[0m: name 'aqi_sb' is not defined"
     ]
    }
   ],
   "source": [
    "#find the mean of a five day rolling average\n",
    "aqi_sb.aqi.rolling('5D').mean()\n",
    "\n",
    "#create a new column that is the 5 day rolling average mean\n",
    "aqi_sb['five_day_average'] = aqi_sb.aqi.rolling('5D').mean()"
   ]
  },
  {
   "cell_type": "markdown",
   "id": "6043866f-8aae-4c13-bcc6-77f3c3aea32f",
   "metadata": {},
   "source": [
    "### Plot data"
   ]
  },
  {
   "cell_type": "code",
   "execution_count": 11,
   "id": "10e38f04-0e7d-46a3-b2df-6851ae29a249",
   "metadata": {
    "tags": []
   },
   "outputs": [
    {
     "ename": "NameError",
     "evalue": "name 'aqi_sb' is not defined",
     "output_type": "error",
     "traceback": [
      "\u001b[0;31m---------------------------------------------------------------------------\u001b[0m",
      "\u001b[0;31mNameError\u001b[0m                                 Traceback (most recent call last)",
      "\u001b[0;32m/tmp/ipykernel_1469258/2781630257.py\u001b[0m in \u001b[0;36m<module>\u001b[0;34m\u001b[0m\n\u001b[1;32m      1\u001b[0m \u001b[0;31m#Plot data\u001b[0m\u001b[0;34m\u001b[0m\u001b[0;34m\u001b[0m\u001b[0m\n\u001b[0;32m----> 2\u001b[0;31m aqi_sb.plot(y = ['aqi', 'five_day_average'], #plot both aqi and five_day_average column\n\u001b[0m\u001b[1;32m      3\u001b[0m            \u001b[0mtitle\u001b[0m \u001b[0;34m=\u001b[0m \u001b[0;34m'AQI in Santa Barbara'\u001b[0m\u001b[0;34m,\u001b[0m \u001b[0;31m#add title to graph\u001b[0m\u001b[0;34m\u001b[0m\u001b[0;34m\u001b[0m\u001b[0m\n\u001b[1;32m      4\u001b[0m            \u001b[0mxlabel\u001b[0m \u001b[0;34m=\u001b[0m \u001b[0;34m'Year'\u001b[0m\u001b[0;34m,\u001b[0m \u001b[0;31m#add x label to graph\u001b[0m\u001b[0;34m\u001b[0m\u001b[0;34m\u001b[0m\u001b[0m\n\u001b[1;32m      5\u001b[0m            \u001b[0mylabel\u001b[0m \u001b[0;34m=\u001b[0m \u001b[0;34m'Air Quality Index (AQI)'\u001b[0m\u001b[0;34m,\u001b[0m \u001b[0;31m#add y label to graph\u001b[0m\u001b[0;34m\u001b[0m\u001b[0;34m\u001b[0m\u001b[0m\n",
      "\u001b[0;31mNameError\u001b[0m: name 'aqi_sb' is not defined"
     ]
    }
   ],
   "source": [
    "#Plot data\n",
    "aqi_sb.plot(y = ['aqi', 'five_day_average'], #plot both aqi and five_day_average column\n",
    "           title = 'AQI in Santa Barbara', #add title to graph\n",
    "           xlabel = 'Year', #add x label to graph\n",
    "           ylabel = 'Air Quality Index (AQI)', #add y label to graph\n",
    "           color = {'aqi': 'blue', #add blue to aqi line\n",
    "                    'five_day_average': 'orange' #add orange to five_day_average line\n",
    "                   }\n",
    "           )"
   ]
  },
  {
   "cell_type": "markdown",
   "id": "20a4731c-d29f-412a-822a-5d4ff81bcd62",
   "metadata": {},
   "source": [
    "At around December 2017, There is a large spike in the AQI with both the daily and 5 day average. Surprisingly, there in an increase in AQI at January 2017. I assume there was a fire at the beginning of that year."
   ]
  },
  {
   "cell_type": "markdown",
   "id": "e899642f-816b-4db1-9504-e2803eec2036",
   "metadata": {},
   "source": [
    "## Landsat Band Raster\n",
    "\n",
    "### Prepare Raster data\n",
    "\n",
    "### Data Exploration:\n",
    "\n",
    "Let's go ahead and read in our band raster data to see what it contains"
   ]
  },
  {
   "cell_type": "code",
   "execution_count": 15,
   "id": "dc38d3ef-2812-4ba6-b7ac-38f269dd782a",
   "metadata": {
    "tags": []
   },
   "outputs": [
    {
     "ename": "NameError",
     "evalue": "name 'ca_fires_bands_2017' is not defined",
     "output_type": "error",
     "traceback": [
      "\u001b[0;31m---------------------------------------------------------------------------\u001b[0m",
      "\u001b[0;31mNameError\u001b[0m                                 Traceback (most recent call last)",
      "\u001b[0;32m/tmp/ipykernel_1469258/3872847388.py\u001b[0m in \u001b[0;36m<module>\u001b[0;34m\u001b[0m\n\u001b[1;32m      1\u001b[0m \u001b[0;31m#print bands data\u001b[0m\u001b[0;34m\u001b[0m\u001b[0;34m\u001b[0m\u001b[0m\n\u001b[0;32m----> 2\u001b[0;31m \u001b[0mca_fires_bands_2017\u001b[0m\u001b[0;34m\u001b[0m\u001b[0;34m\u001b[0m\u001b[0m\n\u001b[0m",
      "\u001b[0;31mNameError\u001b[0m: name 'ca_fires_bands_2017' is not defined"
     ]
    }
   ],
   "source": [
    "#print bands data\n",
    "ca_fires_bands_2017"
   ]
  },
  {
   "cell_type": "markdown",
   "id": "a2fc64a2-05e2-44f1-bb52-1850b3dc6507",
   "metadata": {},
   "source": [
    "### Squeeze and drop bands\n",
    "\n",
    "In order to map this out, we need to drop our bands. If the bands are not dropped, our raster will not be graphable as it contains more than 2 axis."
   ]
  },
  {
   "cell_type": "code",
   "execution_count": null,
   "id": "145dcfe2-7eac-4934-add0-320ca7e2a73f",
   "metadata": {},
   "outputs": [],
   "source": [
    "#get rid of band in ca_fires_band_2017\n",
    "# original dimensions and coordinates\n",
    "print('original dimensions: ', ca_fires_bands_2017.dims,'\\n')\n",
    "\n",
    "# remove length 1 dimension (band)\n",
    "ca_fires_bands_2017 = ca_fires_bands_2017.squeeze()\n",
    "print('removed band from dimensions: ', ca_fires_bands_2017.dims,'\\n')\n",
    "\n",
    "# remove coordinates associated to band\n",
    "ca_fires_bands_2017 = ca_fires_bands_2017.drop('band')\n",
    "print('new dimensions: ', ca_fires_bands_2017.dims)"
   ]
  },
  {
   "cell_type": "markdown",
   "id": "87afb9a1-1e9e-4032-a22d-b277d0218cd2",
   "metadata": {},
   "source": [
    "### Create a False Color image\n",
    "\n",
    "Now that our raster file is ready, we want to be able to map it. Mapping a true color image will make it harder to notice the burn area of where the Thomas fire took place, so we will map a False Color image in order to make it visually easier to see where the burned area took place."
   ]
  },
  {
   "cell_type": "code",
   "execution_count": null,
   "id": "721a4238-f299-4b68-8f17-82ed390dbcca",
   "metadata": {},
   "outputs": [],
   "source": [
    "#plot a false color image by plotting the swir22, nir, and red variables\n",
    "ca_fires_bands_2017[['swir22', \n",
    "                     'nir08', \n",
    "                     'red']].to_array().plot.imshow(robust = True)"
   ]
  },
  {
   "cell_type": "markdown",
   "id": "95484404-ebb7-427a-90e5-00cd7e087cb9",
   "metadata": {},
   "source": [
    "## California Shapefile data\n",
    "\n",
    "### Prepare Shapefile data\n",
    "\n",
    "### Data Exploration:"
   ]
  },
  {
   "cell_type": "code",
   "execution_count": 12,
   "id": "4ce12176-c9f6-4a1e-965a-3790640ae846",
   "metadata": {
    "tags": []
   },
   "outputs": [
    {
     "ename": "NameError",
     "evalue": "name 'ca_fires_perimeter_2017' is not defined",
     "output_type": "error",
     "traceback": [
      "\u001b[0;31m---------------------------------------------------------------------------\u001b[0m",
      "\u001b[0;31mNameError\u001b[0m                                 Traceback (most recent call last)",
      "\u001b[0;32m/tmp/ipykernel_1469258/3925357212.py\u001b[0m in \u001b[0;36m<module>\u001b[0;34m\u001b[0m\n\u001b[1;32m      1\u001b[0m \u001b[0;31m#look at head of fire perimeter\u001b[0m\u001b[0;34m\u001b[0m\u001b[0;34m\u001b[0m\u001b[0m\n\u001b[0;32m----> 2\u001b[0;31m \u001b[0mca_fires_perimeter_2017\u001b[0m\u001b[0;34m.\u001b[0m\u001b[0mhead\u001b[0m\u001b[0;34m(\u001b[0m\u001b[0;34m)\u001b[0m\u001b[0;34m\u001b[0m\u001b[0;34m\u001b[0m\u001b[0m\n\u001b[0m\u001b[1;32m      3\u001b[0m \u001b[0;34m\u001b[0m\u001b[0m\n\u001b[1;32m      4\u001b[0m \u001b[0;31m#plot data to see what it looks like\u001b[0m\u001b[0;34m\u001b[0m\u001b[0;34m\u001b[0m\u001b[0m\n\u001b[1;32m      5\u001b[0m \u001b[0mca_fires_perimeter_2017\u001b[0m\u001b[0;34m.\u001b[0m\u001b[0mplot\u001b[0m\u001b[0;34m(\u001b[0m\u001b[0;34m)\u001b[0m\u001b[0;34m\u001b[0m\u001b[0;34m\u001b[0m\u001b[0m\n",
      "\u001b[0;31mNameError\u001b[0m: name 'ca_fires_perimeter_2017' is not defined"
     ]
    }
   ],
   "source": [
    "#look at head of fire perimeter\n",
    "ca_fires_perimeter_2017.head()\n",
    "\n",
    "#plot data to see what it looks like\n",
    "ca_fires_perimeter_2017.plot()"
   ]
  },
  {
   "cell_type": "markdown",
   "id": "14c268a4-d5c5-42ac-8a15-6718d3a5844c",
   "metadata": {},
   "source": [
    "### Reformat columns\n",
    "\n",
    "To make data wrangling easier, we will be changing the column names to make it easier to interact with."
   ]
  },
  {
   "cell_type": "code",
   "execution_count": 14,
   "id": "03a5e4a9-7c5f-4cc4-af55-7e39b67d0be4",
   "metadata": {
    "tags": []
   },
   "outputs": [
    {
     "ename": "NameError",
     "evalue": "name 'ca_fires_perimeter_2017' is not defined",
     "output_type": "error",
     "traceback": [
      "\u001b[0;31m---------------------------------------------------------------------------\u001b[0m",
      "\u001b[0;31mNameError\u001b[0m                                 Traceback (most recent call last)",
      "\u001b[0;32m/tmp/ipykernel_1469258/2289593390.py\u001b[0m in \u001b[0;36m<module>\u001b[0;34m\u001b[0m\n\u001b[1;32m      1\u001b[0m \u001b[0;31m#change column names:\u001b[0m\u001b[0;34m\u001b[0m\u001b[0;34m\u001b[0m\u001b[0m\n\u001b[1;32m      2\u001b[0m \u001b[0;31m#make columns lower case\u001b[0m\u001b[0;34m\u001b[0m\u001b[0;34m\u001b[0m\u001b[0m\n\u001b[0;32m----> 3\u001b[0;31m \u001b[0mca_fires_perimeter_2017\u001b[0m\u001b[0;34m.\u001b[0m\u001b[0mcolumns\u001b[0m \u001b[0;34m=\u001b[0m \u001b[0mca_fires_perimeter_2017\u001b[0m\u001b[0;34m.\u001b[0m\u001b[0mcolumns\u001b[0m\u001b[0;34m.\u001b[0m\u001b[0mstr\u001b[0m\u001b[0;34m.\u001b[0m\u001b[0mlower\u001b[0m\u001b[0;34m(\u001b[0m\u001b[0;34m)\u001b[0m\u001b[0;34m\u001b[0m\u001b[0;34m\u001b[0m\u001b[0m\n\u001b[0m\u001b[1;32m      4\u001b[0m \u001b[0;31m#print columns names to make sure they were changed\u001b[0m\u001b[0;34m\u001b[0m\u001b[0;34m\u001b[0m\u001b[0m\n\u001b[1;32m      5\u001b[0m \u001b[0mca_fires_perimeter_2017\u001b[0m\u001b[0;34m.\u001b[0m\u001b[0mcolumns\u001b[0m\u001b[0;34m\u001b[0m\u001b[0;34m\u001b[0m\u001b[0m\n",
      "\u001b[0;31mNameError\u001b[0m: name 'ca_fires_perimeter_2017' is not defined"
     ]
    }
   ],
   "source": [
    "#change column names:\n",
    "#make columns lower case\n",
    "ca_fires_perimeter_2017.columns = ca_fires_perimeter_2017.columns.str.lower()\n",
    "#print columns names to make sure they were changed\n",
    "ca_fires_perimeter_2017.columns"
   ]
  },
  {
   "cell_type": "markdown",
   "id": "e04c06df-4536-4d6f-8e52-4f20cd3a4ce8",
   "metadata": {},
   "source": [
    "### Change California shapefile CRS\n",
    "\n",
    "In order to map this perimeter on top of the raster map, we need to make sure the two CRS's are the same in order for the overlap to be exact. We will go ahead and change the CRS in this step:"
   ]
  },
  {
   "cell_type": "code",
   "execution_count": null,
   "id": "41d29495-c601-4658-a641-a5a9e6269622",
   "metadata": {},
   "outputs": [],
   "source": []
  }
 ],
 "metadata": {
  "kernelspec": {
   "display_name": "Anaconda 3 (Base)",
   "language": "python",
   "name": "base"
  },
  "language_info": {
   "codemirror_mode": {
    "name": "ipython",
    "version": 3
   },
   "file_extension": ".py",
   "mimetype": "text/x-python",
   "name": "python",
   "nbconvert_exporter": "python",
   "pygments_lexer": "ipython3",
   "version": "3.9.13"
  }
 },
 "nbformat": 4,
 "nbformat_minor": 5
}
